{
  "nbformat": 4,
  "nbformat_minor": 0,
  "metadata": {
    "colab": {
      "name": "Next Word Prediction",
      "provenance": [],
      "collapsed_sections": []
    },
    "kernelspec": {
      "name": "python3",
      "display_name": "Python 3"
    },
    "language_info": {
      "name": "python"
    },
    "accelerator": "TPU"
  },
  "cells": [
    {
      "cell_type": "code",
      "execution_count": 1,
      "metadata": {
        "id": "HCV7f8THJIdw"
      },
      "outputs": [],
      "source": [
        "#Importing packages\n",
        "import numpy as np\n",
        "np.random.seed(42)\n",
        "import tensorflow as tf\n",
        "tf.random.set_seed(42)\n",
        " \n",
        "from tensorflow.keras.models import Sequential, load_model\n",
        "from tensorflow.keras.layers import Dense, Activation\n",
        "from tensorflow.keras.layers import LSTM, Dropout\n",
        "from tensorflow.keras.layers import TimeDistributed\n",
        "from tensorflow.keras.layers import Dense, Activation, Dropout, RepeatVector\n",
        "from tensorflow.keras.optimizers import  RMSprop\n",
        "import matplotlib.pyplot as plt\n",
        "import pickle\n",
        "import heapq"
      ]
    },
    {
      "cell_type": "code",
      "source": [
        "#Loading the data\n",
        "path = '1661-0.txt'\n",
        "text = open(path,encoding = \"utf8\").read().lower()\n",
        "print('corpus length:', len(text))"
      ],
      "metadata": {
        "colab": {
          "base_uri": "https://localhost:8080/"
        },
        "id": "BfB6ldLMJ-iE",
        "outputId": "d055c437-1620-4daf-8fc9-710390581874"
      },
      "execution_count": 5,
      "outputs": [
        {
          "output_type": "stream",
          "name": "stdout",
          "text": [
            "corpus length: 581888\n"
          ]
        }
      ]
    },
    {
      "cell_type": "code",
      "source": [
        "#Data Preprocessing\n",
        "character = sorted(list(set(text)))\n",
        "char_indices = dict((c, i) for i, c in enumerate(character))\n",
        "indices_char = dict((i, c) for i, c in enumerate(character))\n",
        " \n",
        "print(f'unique chars: {len(character)}')"
      ],
      "metadata": {
        "colab": {
          "base_uri": "https://localhost:8080/"
        },
        "id": "nAtMInpKKh3x",
        "outputId": "e3ac59ae-aa6f-4480-e033-a08fed447a71"
      },
      "execution_count": 6,
      "outputs": [
        {
          "output_type": "stream",
          "name": "stdout",
          "text": [
            "unique chars: 73\n"
          ]
        }
      ]
    },
    {
      "cell_type": "code",
      "source": [
        "#chunk 40 characters with 3 sequences\n",
        "seq_len = 40\n",
        "step = 3\n",
        "sentences = []\n",
        "next_chars = []\n",
        "for i in range(0, len(text) - seq_len, step):\n",
        "    sentences.append(text[i: i + seq_len ])\n",
        "    next_chars.append(text[i + seq_len])\n",
        "print(f'num training examples: {len(sentences)}')"
      ],
      "metadata": {
        "colab": {
          "base_uri": "https://localhost:8080/"
        },
        "id": "gbc6kCYOKmgK",
        "outputId": "4acf1d17-e1a0-4105-889c-0ae4cb456cf6"
      },
      "execution_count": 7,
      "outputs": [
        {
          "output_type": "stream",
          "name": "stdout",
          "text": [
            "num training examples: 193950\n"
          ]
        }
      ]
    },
    {
      "cell_type": "code",
      "source": [
        "# generating our features and labels\n",
        "#one hot encoding\n",
        "X = np.zeros((len(sentences), seq_len, len(character)), dtype=np.bool)\n",
        "y = np.zeros((len(sentences), len(character)), dtype=np.bool)\n",
        "for i, sentence in enumerate(sentences):\n",
        "    for t, char in enumerate(sentence):\n",
        "        X[i, t, char_indices[char]] = 1\n",
        "    y[i, char_indices[next_chars[i]]] = 1\n",
        "\n",
        "sentences[124]\n",
        "next_chars[100]"
      ],
      "metadata": {
        "colab": {
          "base_uri": "https://localhost:8080/",
          "height": 165
        },
        "id": "GWTdMVuJKoop",
        "outputId": "94ff48ec-885c-4863-ecd0-f78d523976b3"
      },
      "execution_count": 8,
      "outputs": [
        {
          "output_type": "stream",
          "name": "stderr",
          "text": [
            "/usr/local/lib/python3.7/dist-packages/ipykernel_launcher.py:3: DeprecationWarning: `np.bool` is a deprecated alias for the builtin `bool`. To silence this warning, use `bool` by itself. Doing this will not modify any behavior and is safe. If you specifically wanted the numpy scalar type, use `np.bool_` here.\n",
            "Deprecated in NumPy 1.20; for more details and guidance: https://numpy.org/devdocs/release/1.20.0-notes.html#deprecations\n",
            "  This is separate from the ipykernel package so we can avoid doing imports until\n",
            "/usr/local/lib/python3.7/dist-packages/ipykernel_launcher.py:4: DeprecationWarning: `np.bool` is a deprecated alias for the builtin `bool`. To silence this warning, use `bool` by itself. Doing this will not modify any behavior and is safe. If you specifically wanted the numpy scalar type, use `np.bool_` here.\n",
            "Deprecated in NumPy 1.20; for more details and guidance: https://numpy.org/devdocs/release/1.20.0-notes.html#deprecations\n",
            "  after removing the cwd from sys.path.\n"
          ]
        },
        {
          "output_type": "execute_result",
          "data": {
            "text/plain": [
              "'e'"
            ],
            "application/vnd.google.colaboratory.intrinsic+json": {
              "type": "string"
            }
          },
          "metadata": {},
          "execution_count": 8
        }
      ]
    },
    {
      "cell_type": "code",
      "source": [
        "#one hot encoded data\n",
        "X[0][0]"
      ],
      "metadata": {
        "colab": {
          "base_uri": "https://localhost:8080/"
        },
        "id": "BAIB8hsuKuxp",
        "outputId": "e52b59d8-7dcf-4864-e68f-4b22e14bba2d"
      },
      "execution_count": 9,
      "outputs": [
        {
          "output_type": "execute_result",
          "data": {
            "text/plain": [
              "array([False, False, False, False, False, False, False, False, False,\n",
              "       False, False, False, False, False, False, False, False, False,\n",
              "       False, False, False, False, False, False, False, False, False,\n",
              "       False, False, False, False, False, False, False, False, False,\n",
              "       False, False, False, False, False, False, False, False, False,\n",
              "       False, False, False, False, False, False, False, False, False,\n",
              "       False, False, False, False, False, False, False, False, False,\n",
              "       False, False, False, False, False, False, False, False, False,\n",
              "        True])"
            ]
          },
          "metadata": {},
          "execution_count": 9
        }
      ]
    },
    {
      "cell_type": "code",
      "source": [
        "#one hot encoded data\n",
        "y[0]"
      ],
      "metadata": {
        "colab": {
          "base_uri": "https://localhost:8080/"
        },
        "id": "slxg3B0oKx1N",
        "outputId": "926b06fa-1f9b-46d2-bb94-2ad54168729d"
      },
      "execution_count": 10,
      "outputs": [
        {
          "output_type": "execute_result",
          "data": {
            "text/plain": [
              "array([False, False, False, False, False, False, False, False, False,\n",
              "       False, False, False, False, False, False, False, False, False,\n",
              "       False, False, False, False, False, False, False, False, False,\n",
              "       False, False, False, False, False, False, False, False, False,\n",
              "       False, False, False, False, False, False, False, False, False,\n",
              "       False, False, False, False, False, False,  True, False, False,\n",
              "       False, False, False, False, False, False, False, False, False,\n",
              "       False, False, False, False, False, False, False, False, False,\n",
              "       False])"
            ]
          },
          "metadata": {},
          "execution_count": 10
        }
      ]
    },
    {
      "cell_type": "code",
      "source": [
        "X.shape"
      ],
      "metadata": {
        "colab": {
          "base_uri": "https://localhost:8080/"
        },
        "id": "mlweMpDtKz3a",
        "outputId": "f3315b6a-900e-4c79-ae49-fcd22a7f838e"
      },
      "execution_count": 11,
      "outputs": [
        {
          "output_type": "execute_result",
          "data": {
            "text/plain": [
              "(193950, 40, 73)"
            ]
          },
          "metadata": {},
          "execution_count": 11
        }
      ]
    },
    {
      "cell_type": "code",
      "source": [
        "y.shape"
      ],
      "metadata": {
        "colab": {
          "base_uri": "https://localhost:8080/"
        },
        "id": "JMdpGRBcK2Gp",
        "outputId": "3832b4e7-70aa-4a79-bd52-16246d3d01dc"
      },
      "execution_count": 12,
      "outputs": [
        {
          "output_type": "execute_result",
          "data": {
            "text/plain": [
              "(193950, 73)"
            ]
          },
          "metadata": {},
          "execution_count": 12
        }
      ]
    },
    {
      "cell_type": "code",
      "source": [
        "# Creating the model\n",
        "model = Sequential()\n",
        "model.add(LSTM(128, input_shape=(seq_len, len(character))))\n",
        "model.add(Dense(len(character)))\n",
        "model.add(Activation('softmax'))"
      ],
      "metadata": {
        "id": "H1cZBLbIK4Gu"
      },
      "execution_count": 13,
      "outputs": []
    },
    {
      "cell_type": "code",
      "source": [
        "model.summary()\n",
        "from tensorflow.keras.utils import plot_model\n",
        "plot_model(model, show_shapes=True, to_file='model.png')"
      ],
      "metadata": {
        "colab": {
          "base_uri": "https://localhost:8080/",
          "height": 694
        },
        "id": "4cNhwgjgK6lg",
        "outputId": "baa5451b-c466-4955-8303-84b4272c9b11"
      },
      "execution_count": 14,
      "outputs": [
        {
          "output_type": "stream",
          "name": "stdout",
          "text": [
            "Model: \"sequential\"\n",
            "_________________________________________________________________\n",
            " Layer (type)                Output Shape              Param #   \n",
            "=================================================================\n",
            " lstm (LSTM)                 (None, 128)               103424    \n",
            "                                                                 \n",
            " dense (Dense)               (None, 73)                9417      \n",
            "                                                                 \n",
            " activation (Activation)     (None, 73)                0         \n",
            "                                                                 \n",
            "=================================================================\n",
            "Total params: 112,841\n",
            "Trainable params: 112,841\n",
            "Non-trainable params: 0\n",
            "_________________________________________________________________\n"
          ]
        },
        {
          "output_type": "execute_result",
          "data": {
            "text/plain": [
              "<IPython.core.display.Image object>"
            ],
            "image/png": "[encoded data removed]"
          },
          "metadata": {},
          "execution_count": 14
        }
      ]
    },
    {
      "cell_type": "code",
      "source": [
        "# Training our model\n",
        "optimizer = RMSprop(learning_rate=0.01)\n",
        "model.compile(loss='categorical_crossentropy', optimizer=optimizer, metrics=['accuracy'])\n",
        "history = model.fit(X, y,\n",
        "                    validation_split=0.01, \n",
        "                    batch_size=128,\n",
        "                    epochs=30, \n",
        "                    shuffle=True).history"
      ],
      "metadata": {
        "colab": {
          "base_uri": "https://localhost:8080/"
        },
        "id": "hCVujNNBK8ha",
        "outputId": "ed8fed2f-0fc1-4986-8087-a023059d3a5d"
      },
      "execution_count": 15,
      "outputs": [
        {
          "output_type": "stream",
          "name": "stdout",
          "text": [
            "Epoch 1/30\n",
            "1501/1501 [==============================] - 211s 139ms/step - loss: 1.9428 - accuracy: 0.4283 - val_loss: 2.1991 - val_accuracy: 0.3979\n",
            "Epoch 2/30\n",
            "1501/1501 [==============================] - 193s 128ms/step - loss: 1.6089 - accuracy: 0.5182 - val_loss: 2.0704 - val_accuracy: 0.4515\n",
            "Epoch 3/30\n",
            "1501/1501 [==============================] - 191s 127ms/step - loss: 1.5159 - accuracy: 0.5425 - val_loss: 1.9946 - val_accuracy: 0.4665\n",
            "Epoch 4/30\n",
            "1501/1501 [==============================] - 191s 127ms/step - loss: 1.4664 - accuracy: 0.5576 - val_loss: 1.9774 - val_accuracy: 0.4711\n",
            "Epoch 5/30\n",
            "1501/1501 [==============================] - 195s 130ms/step - loss: 1.4351 - accuracy: 0.5660 - val_loss: 2.0068 - val_accuracy: 0.4613\n",
            "Epoch 6/30\n",
            "1501/1501 [==============================] - 192s 128ms/step - loss: 1.4111 - accuracy: 0.5719 - val_loss: 1.9882 - val_accuracy: 0.4732\n",
            "Epoch 7/30\n",
            "1501/1501 [==============================] - 194s 129ms/step - loss: 1.3926 - accuracy: 0.5774 - val_loss: 2.0006 - val_accuracy: 0.4737\n",
            "Epoch 8/30\n",
            "1501/1501 [==============================] - 193s 129ms/step - loss: 1.3787 - accuracy: 0.5808 - val_loss: 2.0169 - val_accuracy: 0.4598\n",
            "Epoch 9/30\n",
            "1501/1501 [==============================] - 194s 129ms/step - loss: 1.3683 - accuracy: 0.5831 - val_loss: 2.0075 - val_accuracy: 0.4742\n",
            "Epoch 10/30\n",
            "1501/1501 [==============================] - 195s 130ms/step - loss: 1.3575 - accuracy: 0.5865 - val_loss: 2.0243 - val_accuracy: 0.4562\n",
            "Epoch 11/30\n",
            "1501/1501 [==============================] - 193s 129ms/step - loss: 1.3482 - accuracy: 0.5885 - val_loss: 2.0205 - val_accuracy: 0.4670\n",
            "Epoch 12/30\n",
            "1501/1501 [==============================] - 193s 129ms/step - loss: 1.3379 - accuracy: 0.5910 - val_loss: 2.0035 - val_accuracy: 0.4814\n",
            "Epoch 13/30\n",
            "1501/1501 [==============================] - 194s 129ms/step - loss: 1.3311 - accuracy: 0.5936 - val_loss: 2.0040 - val_accuracy: 0.4784\n",
            "Epoch 14/30\n",
            "1501/1501 [==============================] - 194s 129ms/step - loss: 1.3257 - accuracy: 0.5948 - val_loss: 2.0052 - val_accuracy: 0.4804\n",
            "Epoch 15/30\n",
            "1501/1501 [==============================] - 195s 130ms/step - loss: 1.3192 - accuracy: 0.5954 - val_loss: 2.0280 - val_accuracy: 0.4742\n",
            "Epoch 16/30\n",
            "1501/1501 [==============================] - 194s 129ms/step - loss: 1.3119 - accuracy: 0.5973 - val_loss: 2.0135 - val_accuracy: 0.4763\n",
            "Epoch 17/30\n",
            "1501/1501 [==============================] - 199s 133ms/step - loss: 1.3106 - accuracy: 0.5978 - val_loss: 2.0387 - val_accuracy: 0.4825\n",
            "Epoch 18/30\n",
            "1501/1501 [==============================] - 199s 132ms/step - loss: 1.3050 - accuracy: 0.6004 - val_loss: 2.0449 - val_accuracy: 0.4840\n",
            "Epoch 19/30\n",
            "1501/1501 [==============================] - 197s 131ms/step - loss: 1.3022 - accuracy: 0.6006 - val_loss: 2.0207 - val_accuracy: 0.4887\n",
            "Epoch 20/30\n",
            "1501/1501 [==============================] - 197s 131ms/step - loss: 1.2991 - accuracy: 0.6008 - val_loss: 2.0830 - val_accuracy: 0.4758\n",
            "Epoch 21/30\n",
            "1501/1501 [==============================] - 196s 130ms/step - loss: 1.2918 - accuracy: 0.6024 - val_loss: 2.0653 - val_accuracy: 0.4763\n",
            "Epoch 22/30\n",
            "1501/1501 [==============================] - 199s 133ms/step - loss: 1.2894 - accuracy: 0.6033 - val_loss: 2.1110 - val_accuracy: 0.4825\n",
            "Epoch 23/30\n",
            "1501/1501 [==============================] - 201s 134ms/step - loss: 1.2872 - accuracy: 0.6052 - val_loss: 2.0787 - val_accuracy: 0.4804\n",
            "Epoch 24/30\n",
            "1501/1501 [==============================] - 195s 130ms/step - loss: 1.2838 - accuracy: 0.6053 - val_loss: 2.0804 - val_accuracy: 0.4804\n",
            "Epoch 25/30\n",
            "1501/1501 [==============================] - 200s 134ms/step - loss: 1.2780 - accuracy: 0.6070 - val_loss: 2.0551 - val_accuracy: 0.4670\n",
            "Epoch 26/30\n",
            "1501/1501 [==============================] - 197s 131ms/step - loss: 1.2750 - accuracy: 0.6073 - val_loss: 2.0512 - val_accuracy: 0.4727\n",
            "Epoch 27/30\n",
            "1501/1501 [==============================] - 197s 131ms/step - loss: 1.2732 - accuracy: 0.6079 - val_loss: 2.1356 - val_accuracy: 0.4634\n",
            "Epoch 28/30\n",
            "1501/1501 [==============================] - 196s 131ms/step - loss: 1.2711 - accuracy: 0.6085 - val_loss: 2.0801 - val_accuracy: 0.4784\n",
            "Epoch 29/30\n",
            "1501/1501 [==============================] - 198s 132ms/step - loss: 1.2673 - accuracy: 0.6104 - val_loss: 2.1149 - val_accuracy: 0.4716\n",
            "Epoch 30/30\n",
            "1501/1501 [==============================] - 199s 132ms/step - loss: 1.2642 - accuracy: 0.6107 - val_loss: 2.0981 - val_accuracy: 0.4799\n"
          ]
        }
      ]
    },
    {
      "cell_type": "code",
      "source": [
        "#saving our model\n",
        "model.save('keras_model.h5')\n",
        "pickle.dump(history, open(\"history.p\", \"wb\"))"
      ],
      "metadata": {
        "id": "e_ynLnWILBCJ"
      },
      "execution_count": 16,
      "outputs": []
    },
    {
      "cell_type": "code",
      "source": [
        "#loading our model\n",
        "model = load_model('keras_model.h5')\n",
        "history = pickle.load(open(\"history.p\", \"rb\"))"
      ],
      "metadata": {
        "id": "C0Bp_9b0LEjR"
      },
      "execution_count": 17,
      "outputs": []
    },
    {
      "cell_type": "code",
      "source": [
        "#Model Evaluation\n",
        "loss_and_acc=model.evaluate(X,y)\n",
        "print(\"Test Loss\", loss_and_acc[0])\n",
        "print(\"Test Accuracy\", loss_and_acc[1])"
      ],
      "metadata": {
        "colab": {
          "base_uri": "https://localhost:8080/"
        },
        "id": "78UEYi7oLgj6",
        "outputId": "0d02c68e-9334-49b6-c57c-a9cb0d9425a1"
      },
      "execution_count": 18,
      "outputs": [
        {
          "output_type": "stream",
          "name": "stdout",
          "text": [
            "6061/6061 [==============================] - 101s 17ms/step - loss: 1.2287 - accuracy: 0.6208\n",
            "Test Loss 1.2286638021469116\n",
            "Test Accuracy 0.6207939982414246\n"
          ]
        }
      ]
    },
    {
      "cell_type": "code",
      "source": [
        "acc = history['accuracy']\n",
        "val_acc = history['val_accuracy']\n",
        "loss = history['loss']\n",
        "val_loss = history['val_loss']\n",
        "epochs = range(len(acc))\n",
        "\n",
        "\n",
        "\n",
        "fig, ax = plt.subplots(nrows=1, ncols=2, figsize=(20, 6))\n",
        "ax[0].plot(epochs, acc, 'r', label='Training accuracy')\n",
        "ax[0].plot(epochs, val_acc, 'b', label='Validation accuracy')\n",
        "ax[0].legend(loc=0)\n",
        "ax[1].plot(epochs, loss, 'r', label='Training loss')\n",
        "ax[1].plot(epochs, val_loss, 'b', label='Validation loss')\n",
        "ax[1].legend(loc=0)\n",
        "\n",
        "plt.suptitle('Training and validation')\n",
        "plt.show()"
      ],
      "metadata": {
        "colab": {
          "base_uri": "https://localhost:8080/",
          "height": 234
        },
        "id": "ZFRh-dNiLkPR",
        "outputId": "7d46a8b1-6073-45bd-dd9a-586c4c91da53"
      },
      "execution_count": 19,
      "outputs": [
        {
          "output_type": "display_data",
          "data": {
            "text/plain": [
              "<Figure size 1440x432 with 2 Axes>"
            ],
            "image/png": "[encoded data removed]"
          },
          "metadata": {
            "needs_background": "light"
          }
        }
      ]
    },
    {
      "cell_type": "code",
      "source": [
        "def prepare_input(text):\n",
        "    x = np.zeros((1, seq_len, len(character)))\n",
        "    for t, char in enumerate(text):\n",
        "        x[0, t, char_indices[char]] = 1.\n",
        "        \n",
        "    return x\n",
        "\n",
        "prepare_input(\"This is an example of input of our model\".lower())"
      ],
      "metadata": {
        "id": "0Vv8f8hALmMI"
      },
      "execution_count": 20,
      "outputs": []
    },
    {
      "cell_type": "code",
      "source": [
        "#functions to get next probable characters\n",
        "def sample(preds, top_n=3):\n",
        "    preds = np.asarray(preds).astype('float64')\n",
        "    preds = np.log(preds)\n",
        "    exp_preds = np.exp(preds)\n",
        "    preds = exp_preds / np.sum(exp_preds)\n",
        "    \n",
        "    return heapq.nlargest(top_n, range(len(preds)), preds.take)"
      ],
      "metadata": {
        "id": "HVvDE90ALnit"
      },
      "execution_count": 21,
      "outputs": []
    },
    {
      "cell_type": "code",
      "source": [
        "def predict_completion(text):\n",
        "    original_text = text\n",
        "    generated = text\n",
        "    completion = ''\n",
        "    while True:\n",
        "        x = prepare_input(text)\n",
        "        preds = model.predict(x, verbose=0)[0]\n",
        "        next_index = sample(preds, top_n=1)[0]\n",
        "        next_char = indices_char[next_index]\n",
        "        text = text[1:] + next_char\n",
        "        completion += next_char\n",
        "        \n",
        "        if len(original_text + completion) + 2 > len(original_text) and next_char == ' ':\n",
        "            return completion"
      ],
      "metadata": {
        "id": "kjgq7ITcLtbF"
      },
      "execution_count": 22,
      "outputs": []
    },
    {
      "cell_type": "code",
      "source": [
        "def predict_completions(text, n=3):\n",
        "    x = prepare_input(text)\n",
        "    preds = model.predict(x, verbose=0)[0]\n",
        "    next_indices = sample(preds, n)\n",
        "    return [indices_char[idx] + predict_completion(text[1:] + indices_char[idx]) for idx in next_indices]"
      ],
      "metadata": {
        "id": "CDkk2u2kLvL0"
      },
      "execution_count": 23,
      "outputs": []
    },
    {
      "cell_type": "code",
      "source": [
        "#Prediction\n",
        "quotes = [   \n",
        "    \"Deep learning is subset of machine learning,which is essentially a neural network with three or more layers.\",\n",
        "    \"Machine learning  is the study of computer algorithms that improve automatically through experience and by the use of data.\",\n",
        "    \"It is not a lack of love, but a lack of friendship that makes unhappy marriages.\",\n",
        "    \"Recurrent neural network (RNN) is a type of artificial neural network which uses sequential data or time series data.\",\n",
        "    \"Thanks for spending your precious time to view my work.\"  \n",
        "    \n",
        "]"
      ],
      "metadata": {
        "id": "OfUFd-ErLwxl"
      },
      "execution_count": 24,
      "outputs": []
    },
    {
      "cell_type": "code",
      "source": [
        "for q in quotes:\n",
        "    seq = q[:40].lower()\n",
        "    print(seq)\n",
        "    print(predict_completions(seq, 5))\n",
        "    print()"
      ],
      "metadata": {
        "colab": {
          "base_uri": "https://localhost:8080/"
        },
        "id": "_likvI6pLzka",
        "outputId": "772b1fd3-5fbf-423f-c2c9-1ab9f2f38eb2"
      },
      "execution_count": 25,
      "outputs": [
        {
          "output_type": "stream",
          "name": "stdout",
          "text": [
            "deep learning is subset of machine learn\n",
            "['es ', ' that ', 's ', '\\nthan ', ', ']\n",
            "\n",
            "machine learning  is the study of comput\n",
            "['e ', ' the ', 'ion ', '\\nof ', 'ure ']\n",
            "\n",
            "it is not a lack of love, but a lack of \n",
            "['the ', 'his ', 'a ', 'my ', 'which ']\n",
            "\n",
            "recurrent neural network (rnn) is a type\n",
            "['writt-trade ', 'hate ', 'ing ', 'ment ', 'an ']\n",
            "\n",
            "thanks for spending your precious time t\n",
            "['hat ', 'o ', 'ere ', 'aking ', 'rade ']\n",
            "\n"
          ]
        }
      ]
    },
    {
      "cell_type": "code",
      "source": [
        ""
      ],
      "metadata": {
        "id": "h_zJeRBHL1Pu"
      },
      "execution_count": null,
      "outputs": []
    }
  ]
}